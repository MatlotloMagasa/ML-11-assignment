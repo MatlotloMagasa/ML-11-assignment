{
 "cells": [
  {
   "cell_type": "markdown",
   "metadata": {},
   "source": [
    "# Formative Assessment"
   ]
  },
  {
   "cell_type": "markdown",
   "metadata": {},
   "source": [
    "### The goal"
   ]
  },
  {
   "cell_type": "markdown",
   "metadata": {},
   "source": [
    "The goal of the assignment is to predict active power of a wind turbine using several input features. The data comes from a wind farm in France, [La Haute Borne Data (2013-2016)](https://opendata-renewables.engie.com/explore/dataset/la-haute-borne-data-2013-2016/table/?dataChart=eyJxdWVyaWVzIjpbeyJjb25maWciOnsiZGF0YXNldCI6ImxhLWhhdXRlLWJvcm5lLWRhdGEtMjAxMy0yMDE2Iiwib3B0aW9ucyI6e319LCJjaGFydHMiOlt7InR5cGUiOiJsaW5lIiwiZnVuYyI6IkFWRyIsInlBeGlzIjoiYmFfYXZnIiwic2NpZW50aWZpY0Rpc3BsYXkiOnRydWUsImNvbG9yIjoiIzY2YzJhNSJ9XSwieEF4aXMiOiJkYXRlX3RpbWUiLCJtYXhwb2ludHMiOiIiLCJ0aW1lc2NhbGUiOiJ5ZWFyIiwic29ydCI6IiJ9XX0%3D). A total of 139 features are included in the dataset, with several measures of the same feature. For instance, the active power feature is split into the following measurements: `P_min, P_max, P_avg, P_std`. \n",
    "\n",
    "The overall tasks are the following:\n",
    "\n",
    "1. Use a random forest regressor to predict power output. \n",
    "2. Perform dimension reduction using PCA.\n",
    "2. Perform cross validation to determine how well the model generalises. \n",
    "3. Determine the importance of the features.\n",
    "4. Determine the performance of the models as well.\n",
    "\n",
    "The notebook will guide you as to how to go about fulfilling these overall tasks by doing other smaller subtasks.\n",
    "\n",
    "Note that the dataset is very large, with 139 columns, so using a bit of domain knowledge we identified the following features that could be using in predicting wind turbine power output. Add to the feature subset as you build the model.\n",
    "\n"
   ]
  },
  {
   "cell_type": "markdown",
   "metadata": {},
   "source": [
    "### Load the data"
   ]
  },
  {
   "cell_type": "markdown",
   "metadata": {},
   "source": [
    "Import the necessary libraries and load the data. Once loaded, investigate the data. There are two files: `data_description.csv` lists the variables or features of the dataset. The file `wind-data.csv` contains the data (`wind-data-truncated.csv` if downloaded from the LMS, due to file size limits)."
   ]
  },
  {
   "cell_type": "code",
   "execution_count": 121,
   "metadata": {},
   "outputs": [],
   "source": [
    "import matplotlib.pyplot as plt\n",
    "import pandas as pd\n",
    "import numpy as np\n",
    "from sklearn.model_selection import train_test_split\n",
    "from sklearn.ensemble import RandomForestClassifier\n",
    "from sklearn.decomposition import PCA\n",
    "from sklearn import linear_model\n",
    "from sklearn.pipeline import Pipeline\n",
    "from sklearn.model_selection import train_test_split\n",
    "from sklearn.metrics import confusion_matrix, f1_score\n",
    "\n",
    "\n",
    "%matplotlib inline"
   ]
  },
  {
   "cell_type": "code",
   "execution_count": null,
   "metadata": {},
   "outputs": [],
   "source": []
  },
  {
   "cell_type": "markdown",
   "metadata": {},
   "source": [
    "Load both the `data_description.csv` and `wind-data.csv` files."
   ]
  },
  {
   "cell_type": "code",
   "execution_count": 5,
   "metadata": {},
   "outputs": [
    {
     "data": {
      "text/html": [
       "<div>\n",
       "<style scoped>\n",
       "    .dataframe tbody tr th:only-of-type {\n",
       "        vertical-align: middle;\n",
       "    }\n",
       "\n",
       "    .dataframe tbody tr th {\n",
       "        vertical-align: top;\n",
       "    }\n",
       "\n",
       "    .dataframe thead th {\n",
       "        text-align: right;\n",
       "    }\n",
       "</style>\n",
       "<table border=\"1\" class=\"dataframe\">\n",
       "  <thead>\n",
       "    <tr style=\"text-align: right;\">\n",
       "      <th></th>\n",
       "      <th>Variable_long_name</th>\n",
       "      <th>Unit_long_name</th>\n",
       "      <th>Comment</th>\n",
       "    </tr>\n",
       "    <tr>\n",
       "      <th>Variable_name</th>\n",
       "      <th></th>\n",
       "      <th></th>\n",
       "      <th></th>\n",
       "    </tr>\n",
       "  </thead>\n",
       "  <tbody>\n",
       "    <tr>\n",
       "      <th>Va2</th>\n",
       "      <td>Vane_position_2</td>\n",
       "      <td>deg</td>\n",
       "      <td>Second wind vane on the nacelle</td>\n",
       "    </tr>\n",
       "    <tr>\n",
       "      <th>Ws2</th>\n",
       "      <td>Wind_speed_2</td>\n",
       "      <td>m/s</td>\n",
       "      <td>Second anemometer on the nacelle</td>\n",
       "    </tr>\n",
       "    <tr>\n",
       "      <th>Ws</th>\n",
       "      <td>Wind_speed</td>\n",
       "      <td>m/s</td>\n",
       "      <td>Average wind speed</td>\n",
       "    </tr>\n",
       "    <tr>\n",
       "      <th>Wa_c</th>\n",
       "      <td>Absolute_wind_direction_corrected</td>\n",
       "      <td>deg</td>\n",
       "      <td>NaN</td>\n",
       "    </tr>\n",
       "    <tr>\n",
       "      <th>Na_c</th>\n",
       "      <td>Nacelle_angle_corrected</td>\n",
       "      <td>deg</td>\n",
       "      <td>NaN</td>\n",
       "    </tr>\n",
       "  </tbody>\n",
       "</table>\n",
       "</div>"
      ],
      "text/plain": [
       "                              Variable_long_name Unit_long_name  \\\n",
       "Variable_name                                                     \n",
       "Va2                              Vane_position_2            deg   \n",
       "Ws2                                 Wind_speed_2            m/s   \n",
       "Ws                                    Wind_speed            m/s   \n",
       "Wa_c           Absolute_wind_direction_corrected            deg   \n",
       "Na_c                     Nacelle_angle_corrected            deg   \n",
       "\n",
       "                                        Comment  \n",
       "Variable_name                                    \n",
       "Va2             Second wind vane on the nacelle  \n",
       "Ws2            Second anemometer on the nacelle  \n",
       "Ws                           Average wind speed  \n",
       "Wa_c                                        NaN  \n",
       "Na_c                                        NaN  "
      ]
     },
     "execution_count": 5,
     "metadata": {},
     "output_type": "execute_result"
    }
   ],
   "source": [
    "data1=pd.read_csv('data_description.csv',sep=';', index_col=0)\n",
    "\n",
    "data1.head()"
   ]
  },
  {
   "cell_type": "code",
   "execution_count": 112,
   "metadata": {},
   "outputs": [
    {
     "data": {
      "text/html": [
       "<div>\n",
       "<style scoped>\n",
       "    .dataframe tbody tr th:only-of-type {\n",
       "        vertical-align: middle;\n",
       "    }\n",
       "\n",
       "    .dataframe tbody tr th {\n",
       "        vertical-align: top;\n",
       "    }\n",
       "\n",
       "    .dataframe thead th {\n",
       "        text-align: right;\n",
       "    }\n",
       "</style>\n",
       "<table border=\"1\" class=\"dataframe\">\n",
       "  <thead>\n",
       "    <tr style=\"text-align: right;\">\n",
       "      <th></th>\n",
       "      <th>Wind_turbine_name</th>\n",
       "      <th>Date_time</th>\n",
       "      <th>Ba_avg</th>\n",
       "      <th>Ba_min</th>\n",
       "      <th>Ba_max</th>\n",
       "      <th>Ba_std</th>\n",
       "      <th>Rt_avg</th>\n",
       "      <th>Rt_min</th>\n",
       "      <th>Rt_max</th>\n",
       "      <th>Rt_std</th>\n",
       "      <th>...</th>\n",
       "      <th>Pas_max</th>\n",
       "      <th>Pas_std</th>\n",
       "      <th>Wa_c_avg</th>\n",
       "      <th>Wa_c_min</th>\n",
       "      <th>Wa_c_max</th>\n",
       "      <th>Wa_c_std</th>\n",
       "      <th>Na_c_avg</th>\n",
       "      <th>Na_c_min</th>\n",
       "      <th>Na_c_max</th>\n",
       "      <th>Na_c_std</th>\n",
       "    </tr>\n",
       "  </thead>\n",
       "  <tbody>\n",
       "    <tr>\n",
       "      <th>804808</th>\n",
       "      <td>R80711</td>\n",
       "      <td>2013-04-06 14:20:00</td>\n",
       "      <td>-0.940000</td>\n",
       "      <td>-0.950000</td>\n",
       "      <td>-0.940000</td>\n",
       "      <td>0.0</td>\n",
       "      <td>10.59</td>\n",
       "      <td>10.000000</td>\n",
       "      <td>11.0</td>\n",
       "      <td>0.41</td>\n",
       "      <td>...</td>\n",
       "      <td>NaN</td>\n",
       "      <td>NaN</td>\n",
       "      <td>358.870000</td>\n",
       "      <td>NaN</td>\n",
       "      <td>NaN</td>\n",
       "      <td>NaN</td>\n",
       "      <td>351.670010</td>\n",
       "      <td>NaN</td>\n",
       "      <td>NaN</td>\n",
       "      <td>NaN</td>\n",
       "    </tr>\n",
       "    <tr>\n",
       "      <th>732424</th>\n",
       "      <td>R80711</td>\n",
       "      <td>2015-12-22 14:30:00</td>\n",
       "      <td>-0.990000</td>\n",
       "      <td>-0.990000</td>\n",
       "      <td>-0.990000</td>\n",
       "      <td>0.0</td>\n",
       "      <td>17.00</td>\n",
       "      <td>17.000000</td>\n",
       "      <td>17.0</td>\n",
       "      <td>0.00</td>\n",
       "      <td>...</td>\n",
       "      <td>NaN</td>\n",
       "      <td>NaN</td>\n",
       "      <td>NaN</td>\n",
       "      <td>NaN</td>\n",
       "      <td>NaN</td>\n",
       "      <td>NaN</td>\n",
       "      <td>NaN</td>\n",
       "      <td>NaN</td>\n",
       "      <td>NaN</td>\n",
       "      <td>NaN</td>\n",
       "    </tr>\n",
       "    <tr>\n",
       "      <th>312987</th>\n",
       "      <td>R80711</td>\n",
       "      <td>2016-03-20 20:40:00</td>\n",
       "      <td>-0.990000</td>\n",
       "      <td>-0.990000</td>\n",
       "      <td>-0.990000</td>\n",
       "      <td>0.0</td>\n",
       "      <td>12.88</td>\n",
       "      <td>12.000000</td>\n",
       "      <td>13.0</td>\n",
       "      <td>0.25</td>\n",
       "      <td>...</td>\n",
       "      <td>NaN</td>\n",
       "      <td>NaN</td>\n",
       "      <td>44.849998</td>\n",
       "      <td>NaN</td>\n",
       "      <td>NaN</td>\n",
       "      <td>NaN</td>\n",
       "      <td>44.849998</td>\n",
       "      <td>NaN</td>\n",
       "      <td>NaN</td>\n",
       "      <td>NaN</td>\n",
       "    </tr>\n",
       "    <tr>\n",
       "      <th>68152</th>\n",
       "      <td>R80711</td>\n",
       "      <td>2016-01-09 01:00:00</td>\n",
       "      <td>45.000000</td>\n",
       "      <td>45.000000</td>\n",
       "      <td>45.000000</td>\n",
       "      <td>0.0</td>\n",
       "      <td>12.95</td>\n",
       "      <td>12.000000</td>\n",
       "      <td>13.0</td>\n",
       "      <td>0.20</td>\n",
       "      <td>...</td>\n",
       "      <td>NaN</td>\n",
       "      <td>NaN</td>\n",
       "      <td>243.020000</td>\n",
       "      <td>NaN</td>\n",
       "      <td>NaN</td>\n",
       "      <td>NaN</td>\n",
       "      <td>243.020000</td>\n",
       "      <td>NaN</td>\n",
       "      <td>NaN</td>\n",
       "      <td>NaN</td>\n",
       "    </tr>\n",
       "    <tr>\n",
       "      <th>231878</th>\n",
       "      <td>R80721</td>\n",
       "      <td>2014-12-14 13:20:00</td>\n",
       "      <td>44.990002</td>\n",
       "      <td>44.990002</td>\n",
       "      <td>44.990002</td>\n",
       "      <td>0.0</td>\n",
       "      <td>16.99</td>\n",
       "      <td>16.110001</td>\n",
       "      <td>17.0</td>\n",
       "      <td>0.07</td>\n",
       "      <td>...</td>\n",
       "      <td>NaN</td>\n",
       "      <td>NaN</td>\n",
       "      <td>195.060000</td>\n",
       "      <td>NaN</td>\n",
       "      <td>NaN</td>\n",
       "      <td>NaN</td>\n",
       "      <td>308.239990</td>\n",
       "      <td>NaN</td>\n",
       "      <td>NaN</td>\n",
       "      <td>NaN</td>\n",
       "    </tr>\n",
       "  </tbody>\n",
       "</table>\n",
       "<p>5 rows × 138 columns</p>\n",
       "</div>"
      ],
      "text/plain": [
       "       Wind_turbine_name           Date_time     Ba_avg     Ba_min     Ba_max  \\\n",
       "804808            R80711 2013-04-06 14:20:00  -0.940000  -0.950000  -0.940000   \n",
       "732424            R80711 2015-12-22 14:30:00  -0.990000  -0.990000  -0.990000   \n",
       "312987            R80711 2016-03-20 20:40:00  -0.990000  -0.990000  -0.990000   \n",
       "68152             R80711 2016-01-09 01:00:00  45.000000  45.000000  45.000000   \n",
       "231878            R80721 2014-12-14 13:20:00  44.990002  44.990002  44.990002   \n",
       "\n",
       "        Ba_std  Rt_avg     Rt_min  Rt_max  Rt_std    ...     Pas_max  Pas_std  \\\n",
       "804808     0.0   10.59  10.000000    11.0    0.41    ...         NaN      NaN   \n",
       "732424     0.0   17.00  17.000000    17.0    0.00    ...         NaN      NaN   \n",
       "312987     0.0   12.88  12.000000    13.0    0.25    ...         NaN      NaN   \n",
       "68152      0.0   12.95  12.000000    13.0    0.20    ...         NaN      NaN   \n",
       "231878     0.0   16.99  16.110001    17.0    0.07    ...         NaN      NaN   \n",
       "\n",
       "          Wa_c_avg  Wa_c_min  Wa_c_max  Wa_c_std    Na_c_avg  Na_c_min  \\\n",
       "804808  358.870000       NaN       NaN       NaN  351.670010       NaN   \n",
       "732424         NaN       NaN       NaN       NaN         NaN       NaN   \n",
       "312987   44.849998       NaN       NaN       NaN   44.849998       NaN   \n",
       "68152   243.020000       NaN       NaN       NaN  243.020000       NaN   \n",
       "231878  195.060000       NaN       NaN       NaN  308.239990       NaN   \n",
       "\n",
       "        Na_c_max  Na_c_std  \n",
       "804808       NaN       NaN  \n",
       "732424       NaN       NaN  \n",
       "312987       NaN       NaN  \n",
       "68152        NaN       NaN  \n",
       "231878       NaN       NaN  \n",
       "\n",
       "[5 rows x 138 columns]"
      ]
     },
     "execution_count": 112,
     "metadata": {},
     "output_type": "execute_result"
    }
   ],
   "source": [
    "data2=pd.read_csv('wind-data-truncated.csv', index_col=0, parse_dates=['Date_time'])\n",
    "\n",
    "data2.head()"
   ]
  },
  {
   "cell_type": "markdown",
   "metadata": {},
   "source": [
    "__Helpful hint__: Load the data into a dataframe. Use the `parse_dates=['Date_time']` argument in the `read_csv` function in order to display dates in later plots."
   ]
  },
  {
   "cell_type": "code",
   "execution_count": null,
   "metadata": {},
   "outputs": [],
   "source": []
  },
  {
   "cell_type": "markdown",
   "metadata": {},
   "source": [
    "### Explore the data"
   ]
  },
  {
   "cell_type": "markdown",
   "metadata": {},
   "source": [
    "Once you've loaded the data into a pandas dataframe, explore the data. You may start by generating summary statistics, identifying any missing values, and filling in missing values. Generate visualizations of the features as a way to start understanding the distribution of the data."
   ]
  },
  {
   "cell_type": "code",
   "execution_count": 7,
   "metadata": {},
   "outputs": [
    {
     "data": {
      "text/html": [
       "<div>\n",
       "<style scoped>\n",
       "    .dataframe tbody tr th:only-of-type {\n",
       "        vertical-align: middle;\n",
       "    }\n",
       "\n",
       "    .dataframe tbody tr th {\n",
       "        vertical-align: top;\n",
       "    }\n",
       "\n",
       "    .dataframe thead th {\n",
       "        text-align: right;\n",
       "    }\n",
       "</style>\n",
       "<table border=\"1\" class=\"dataframe\">\n",
       "  <thead>\n",
       "    <tr style=\"text-align: right;\">\n",
       "      <th></th>\n",
       "      <th>Variable_long_name</th>\n",
       "      <th>Unit_long_name</th>\n",
       "      <th>Comment</th>\n",
       "    </tr>\n",
       "  </thead>\n",
       "  <tbody>\n",
       "    <tr>\n",
       "      <th>count</th>\n",
       "      <td>34</td>\n",
       "      <td>32</td>\n",
       "      <td>7</td>\n",
       "    </tr>\n",
       "    <tr>\n",
       "      <th>unique</th>\n",
       "      <td>34</td>\n",
       "      <td>10</td>\n",
       "      <td>7</td>\n",
       "    </tr>\n",
       "    <tr>\n",
       "      <th>top</th>\n",
       "      <td>Absolute_wind_direction</td>\n",
       "      <td>deg_C</td>\n",
       "      <td>Second wind vane on the nacelle</td>\n",
       "    </tr>\n",
       "    <tr>\n",
       "      <th>freq</th>\n",
       "      <td>1</td>\n",
       "      <td>11</td>\n",
       "      <td>1</td>\n",
       "    </tr>\n",
       "  </tbody>\n",
       "</table>\n",
       "</div>"
      ],
      "text/plain": [
       "             Variable_long_name Unit_long_name  \\\n",
       "count                        34             32   \n",
       "unique                       34             10   \n",
       "top     Absolute_wind_direction          deg_C   \n",
       "freq                          1             11   \n",
       "\n",
       "                                Comment  \n",
       "count                                 7  \n",
       "unique                                7  \n",
       "top     Second wind vane on the nacelle  \n",
       "freq                                  1  "
      ]
     },
     "execution_count": 7,
     "metadata": {},
     "output_type": "execute_result"
    }
   ],
   "source": [
    "data1.describe()"
   ]
  },
  {
   "cell_type": "code",
   "execution_count": 81,
   "metadata": {},
   "outputs": [
    {
     "data": {
      "text/html": [
       "<div>\n",
       "<style scoped>\n",
       "    .dataframe tbody tr th:only-of-type {\n",
       "        vertical-align: middle;\n",
       "    }\n",
       "\n",
       "    .dataframe tbody tr th {\n",
       "        vertical-align: top;\n",
       "    }\n",
       "\n",
       "    .dataframe thead th {\n",
       "        text-align: right;\n",
       "    }\n",
       "</style>\n",
       "<table border=\"1\" class=\"dataframe\">\n",
       "  <thead>\n",
       "    <tr style=\"text-align: right;\">\n",
       "      <th></th>\n",
       "      <th>Ba_avg</th>\n",
       "      <th>Ba_min</th>\n",
       "      <th>Ba_max</th>\n",
       "      <th>Ba_std</th>\n",
       "      <th>Rt_avg</th>\n",
       "      <th>Rt_min</th>\n",
       "      <th>Rt_max</th>\n",
       "      <th>Rt_std</th>\n",
       "      <th>DCs_avg</th>\n",
       "      <th>DCs_min</th>\n",
       "      <th>...</th>\n",
       "      <th>Pas_std</th>\n",
       "      <th>Wa_c_avg</th>\n",
       "      <th>Wa_c_min</th>\n",
       "      <th>Wa_c_max</th>\n",
       "      <th>Wa_c_std</th>\n",
       "      <th>Na_c_avg</th>\n",
       "      <th>Na_c_min</th>\n",
       "      <th>Na_c_max</th>\n",
       "      <th>Na_c_std</th>\n",
       "      <th>aboveAVG</th>\n",
       "    </tr>\n",
       "  </thead>\n",
       "  <tbody>\n",
       "    <tr>\n",
       "      <th>count</th>\n",
       "      <td>25000.000000</td>\n",
       "      <td>25000.000000</td>\n",
       "      <td>25000.000000</td>\n",
       "      <td>25000.000000</td>\n",
       "      <td>25000.000000</td>\n",
       "      <td>25000.000000</td>\n",
       "      <td>25000.000000</td>\n",
       "      <td>25000.000000</td>\n",
       "      <td>25000.000000</td>\n",
       "      <td>25000.000000</td>\n",
       "      <td>...</td>\n",
       "      <td>25000.0</td>\n",
       "      <td>25000.000000</td>\n",
       "      <td>25000.0</td>\n",
       "      <td>25000.0</td>\n",
       "      <td>25000.0</td>\n",
       "      <td>25000.000000</td>\n",
       "      <td>25000.0</td>\n",
       "      <td>25000.0</td>\n",
       "      <td>25000.0</td>\n",
       "      <td>25000.000000</td>\n",
       "    </tr>\n",
       "    <tr>\n",
       "      <th>mean</th>\n",
       "      <td>13.832199</td>\n",
       "      <td>12.739340</td>\n",
       "      <td>15.280860</td>\n",
       "      <td>0.856264</td>\n",
       "      <td>19.210131</td>\n",
       "      <td>19.017220</td>\n",
       "      <td>19.428465</td>\n",
       "      <td>0.105331</td>\n",
       "      <td>1049.495712</td>\n",
       "      <td>938.247670</td>\n",
       "      <td>...</td>\n",
       "      <td>0.0</td>\n",
       "      <td>171.399601</td>\n",
       "      <td>0.0</td>\n",
       "      <td>0.0</td>\n",
       "      <td>0.0</td>\n",
       "      <td>172.278200</td>\n",
       "      <td>0.0</td>\n",
       "      <td>0.0</td>\n",
       "      <td>0.0</td>\n",
       "      <td>0.341840</td>\n",
       "    </tr>\n",
       "    <tr>\n",
       "      <th>std</th>\n",
       "      <td>28.233084</td>\n",
       "      <td>28.061846</td>\n",
       "      <td>28.784217</td>\n",
       "      <td>3.863646</td>\n",
       "      <td>6.328794</td>\n",
       "      <td>6.336863</td>\n",
       "      <td>6.336022</td>\n",
       "      <td>0.157067</td>\n",
       "      <td>629.678117</td>\n",
       "      <td>595.881005</td>\n",
       "      <td>...</td>\n",
       "      <td>0.0</td>\n",
       "      <td>100.048152</td>\n",
       "      <td>0.0</td>\n",
       "      <td>0.0</td>\n",
       "      <td>0.0</td>\n",
       "      <td>100.286363</td>\n",
       "      <td>0.0</td>\n",
       "      <td>0.0</td>\n",
       "      <td>0.0</td>\n",
       "      <td>0.474336</td>\n",
       "    </tr>\n",
       "    <tr>\n",
       "      <th>min</th>\n",
       "      <td>-1.050000</td>\n",
       "      <td>-23.040001</td>\n",
       "      <td>-1.050000</td>\n",
       "      <td>0.000000</td>\n",
       "      <td>0.000000</td>\n",
       "      <td>0.000000</td>\n",
       "      <td>0.000000</td>\n",
       "      <td>0.000000</td>\n",
       "      <td>-574.880000</td>\n",
       "      <td>-574.919980</td>\n",
       "      <td>...</td>\n",
       "      <td>0.0</td>\n",
       "      <td>0.000000</td>\n",
       "      <td>0.0</td>\n",
       "      <td>0.0</td>\n",
       "      <td>0.0</td>\n",
       "      <td>0.000000</td>\n",
       "      <td>0.0</td>\n",
       "      <td>0.0</td>\n",
       "      <td>0.0</td>\n",
       "      <td>0.000000</td>\n",
       "    </tr>\n",
       "    <tr>\n",
       "      <th>25%</th>\n",
       "      <td>-0.990000</td>\n",
       "      <td>-1.000000</td>\n",
       "      <td>-0.990000</td>\n",
       "      <td>0.000000</td>\n",
       "      <td>14.000000</td>\n",
       "      <td>14.000000</td>\n",
       "      <td>14.870000</td>\n",
       "      <td>0.000000</td>\n",
       "      <td>846.422485</td>\n",
       "      <td>153.192507</td>\n",
       "      <td>...</td>\n",
       "      <td>0.0</td>\n",
       "      <td>69.757502</td>\n",
       "      <td>0.0</td>\n",
       "      <td>0.0</td>\n",
       "      <td>0.0</td>\n",
       "      <td>69.589998</td>\n",
       "      <td>0.0</td>\n",
       "      <td>0.0</td>\n",
       "      <td>0.0</td>\n",
       "      <td>0.000000</td>\n",
       "    </tr>\n",
       "    <tr>\n",
       "      <th>50%</th>\n",
       "      <td>-0.970000</td>\n",
       "      <td>-0.990000</td>\n",
       "      <td>-0.500000</td>\n",
       "      <td>0.000000</td>\n",
       "      <td>19.000000</td>\n",
       "      <td>19.000000</td>\n",
       "      <td>19.000000</td>\n",
       "      <td>0.000000</td>\n",
       "      <td>1176.650000</td>\n",
       "      <td>1028.545050</td>\n",
       "      <td>...</td>\n",
       "      <td>0.0</td>\n",
       "      <td>189.945000</td>\n",
       "      <td>0.0</td>\n",
       "      <td>0.0</td>\n",
       "      <td>0.0</td>\n",
       "      <td>191.725000</td>\n",
       "      <td>0.0</td>\n",
       "      <td>0.0</td>\n",
       "      <td>0.0</td>\n",
       "      <td>0.000000</td>\n",
       "    </tr>\n",
       "    <tr>\n",
       "      <th>75%</th>\n",
       "      <td>6.225000</td>\n",
       "      <td>-0.490000</td>\n",
       "      <td>24.365000</td>\n",
       "      <td>0.130000</td>\n",
       "      <td>24.000000</td>\n",
       "      <td>24.000000</td>\n",
       "      <td>24.000000</td>\n",
       "      <td>0.200000</td>\n",
       "      <td>1562.932550</td>\n",
       "      <td>1364.120000</td>\n",
       "      <td>...</td>\n",
       "      <td>0.0</td>\n",
       "      <td>245.910000</td>\n",
       "      <td>0.0</td>\n",
       "      <td>0.0</td>\n",
       "      <td>0.0</td>\n",
       "      <td>247.399990</td>\n",
       "      <td>0.0</td>\n",
       "      <td>0.0</td>\n",
       "      <td>0.0</td>\n",
       "      <td>1.000000</td>\n",
       "    </tr>\n",
       "    <tr>\n",
       "      <th>max</th>\n",
       "      <td>117.130000</td>\n",
       "      <td>117.130000</td>\n",
       "      <td>161.770000</td>\n",
       "      <td>45.220001</td>\n",
       "      <td>39.000000</td>\n",
       "      <td>39.000000</td>\n",
       "      <td>39.000000</td>\n",
       "      <td>0.940000</td>\n",
       "      <td>1805.770000</td>\n",
       "      <td>1800.720000</td>\n",
       "      <td>...</td>\n",
       "      <td>0.0</td>\n",
       "      <td>359.950010</td>\n",
       "      <td>0.0</td>\n",
       "      <td>0.0</td>\n",
       "      <td>0.0</td>\n",
       "      <td>359.950010</td>\n",
       "      <td>0.0</td>\n",
       "      <td>0.0</td>\n",
       "      <td>0.0</td>\n",
       "      <td>1.000000</td>\n",
       "    </tr>\n",
       "  </tbody>\n",
       "</table>\n",
       "<p>8 rows × 137 columns</p>\n",
       "</div>"
      ],
      "text/plain": [
       "             Ba_avg        Ba_min        Ba_max        Ba_std        Rt_avg  \\\n",
       "count  25000.000000  25000.000000  25000.000000  25000.000000  25000.000000   \n",
       "mean      13.832199     12.739340     15.280860      0.856264     19.210131   \n",
       "std       28.233084     28.061846     28.784217      3.863646      6.328794   \n",
       "min       -1.050000    -23.040001     -1.050000      0.000000      0.000000   \n",
       "25%       -0.990000     -1.000000     -0.990000      0.000000     14.000000   \n",
       "50%       -0.970000     -0.990000     -0.500000      0.000000     19.000000   \n",
       "75%        6.225000     -0.490000     24.365000      0.130000     24.000000   \n",
       "max      117.130000    117.130000    161.770000     45.220001     39.000000   \n",
       "\n",
       "             Rt_min        Rt_max        Rt_std       DCs_avg       DCs_min  \\\n",
       "count  25000.000000  25000.000000  25000.000000  25000.000000  25000.000000   \n",
       "mean      19.017220     19.428465      0.105331   1049.495712    938.247670   \n",
       "std        6.336863      6.336022      0.157067    629.678117    595.881005   \n",
       "min        0.000000      0.000000      0.000000   -574.880000   -574.919980   \n",
       "25%       14.000000     14.870000      0.000000    846.422485    153.192507   \n",
       "50%       19.000000     19.000000      0.000000   1176.650000   1028.545050   \n",
       "75%       24.000000     24.000000      0.200000   1562.932550   1364.120000   \n",
       "max       39.000000     39.000000      0.940000   1805.770000   1800.720000   \n",
       "\n",
       "           ...       Pas_std      Wa_c_avg  Wa_c_min  Wa_c_max  Wa_c_std  \\\n",
       "count      ...       25000.0  25000.000000   25000.0   25000.0   25000.0   \n",
       "mean       ...           0.0    171.399601       0.0       0.0       0.0   \n",
       "std        ...           0.0    100.048152       0.0       0.0       0.0   \n",
       "min        ...           0.0      0.000000       0.0       0.0       0.0   \n",
       "25%        ...           0.0     69.757502       0.0       0.0       0.0   \n",
       "50%        ...           0.0    189.945000       0.0       0.0       0.0   \n",
       "75%        ...           0.0    245.910000       0.0       0.0       0.0   \n",
       "max        ...           0.0    359.950010       0.0       0.0       0.0   \n",
       "\n",
       "           Na_c_avg  Na_c_min  Na_c_max  Na_c_std      aboveAVG  \n",
       "count  25000.000000   25000.0   25000.0   25000.0  25000.000000  \n",
       "mean     172.278200       0.0       0.0       0.0      0.341840  \n",
       "std      100.286363       0.0       0.0       0.0      0.474336  \n",
       "min        0.000000       0.0       0.0       0.0      0.000000  \n",
       "25%       69.589998       0.0       0.0       0.0      0.000000  \n",
       "50%      191.725000       0.0       0.0       0.0      0.000000  \n",
       "75%      247.399990       0.0       0.0       0.0      1.000000  \n",
       "max      359.950010       0.0       0.0       0.0      1.000000  \n",
       "\n",
       "[8 rows x 137 columns]"
      ]
     },
     "execution_count": 81,
     "metadata": {},
     "output_type": "execute_result"
    }
   ],
   "source": [
    "data2.describe()"
   ]
  },
  {
   "cell_type": "code",
   "execution_count": 71,
   "metadata": {},
   "outputs": [
    {
     "data": {
      "text/plain": [
       "Variable_long_name     0\n",
       "Unit_long_name         2\n",
       "Comment               27\n",
       "dtype: int64"
      ]
     },
     "execution_count": 71,
     "metadata": {},
     "output_type": "execute_result"
    }
   ],
   "source": [
    "#Looking at data1 \"Data description\"\n",
    "\n",
    "data1.isnull().sum()"
   ]
  },
  {
   "cell_type": "code",
   "execution_count": 37,
   "metadata": {},
   "outputs": [
    {
     "data": {
      "text/plain": [
       "count        32\n",
       "unique       10\n",
       "top       deg_C\n",
       "freq         11\n",
       "Name: Unit_long_name, dtype: object"
      ]
     },
     "execution_count": 37,
     "metadata": {},
     "output_type": "execute_result"
    }
   ],
   "source": [
    "#Remove relevant missing values\n",
    "d1= data1['Unit_long_name']\n",
    "d1.dropna(inplace=True)\n",
    "d1.describe()"
   ]
  },
  {
   "cell_type": "code",
   "execution_count": 108,
   "metadata": {},
   "outputs": [
    {
     "data": {
      "text/plain": [
       "Ba_avg        0\n",
       "Ba_min        0\n",
       "Ba_max        0\n",
       "Ba_std        0\n",
       "Rt_avg        0\n",
       "Rt_min        0\n",
       "Rt_max        0\n",
       "Rt_std        0\n",
       "DCs_avg       0\n",
       "DCs_min       0\n",
       "DCs_max       0\n",
       "DCs_std       0\n",
       "Cm_avg        0\n",
       "Cm_min        0\n",
       "Cm_max        0\n",
       "Cm_std        0\n",
       "P_avg         0\n",
       "P_min         0\n",
       "P_max         0\n",
       "P_std         0\n",
       "Q_avg         0\n",
       "Q_min         0\n",
       "Q_max         0\n",
       "Q_std         0\n",
       "S_avg         0\n",
       "S_min         0\n",
       "S_max         0\n",
       "S_std         0\n",
       "Cosphi_avg    0\n",
       "Cosphi_min    0\n",
       "             ..\n",
       "Nf_std        0\n",
       "Nu_avg        0\n",
       "Nu_min        0\n",
       "Nu_max        0\n",
       "Nu_std        0\n",
       "Rs_avg        0\n",
       "Rs_min        0\n",
       "Rs_max        0\n",
       "Rs_std        0\n",
       "Rbt_avg       0\n",
       "Rbt_min       0\n",
       "Rbt_max       0\n",
       "Rbt_std       0\n",
       "Rm_avg        0\n",
       "Rm_min        0\n",
       "Rm_max        0\n",
       "Rm_std        0\n",
       "Pas_avg       0\n",
       "Pas_min       0\n",
       "Pas_max       0\n",
       "Pas_std       0\n",
       "Wa_c_avg      0\n",
       "Wa_c_min      0\n",
       "Wa_c_max      0\n",
       "Wa_c_std      0\n",
       "Na_c_avg      0\n",
       "Na_c_min      0\n",
       "Na_c_max      0\n",
       "Na_c_std      0\n",
       "aboveAVG      0\n",
       "Length: 137, dtype: int64"
      ]
     },
     "execution_count": 108,
     "metadata": {},
     "output_type": "execute_result"
    }
   ],
   "source": [
    "#Looking at data2 \"Wind Data\"\n",
    "\n",
    "data2.isnull().sum()"
   ]
  },
  {
   "cell_type": "markdown",
   "metadata": {},
   "source": [
    "Because we are investigating power output, the active power feature is given by the following features in  the dataset: `P_avg, P_min, P_max, P_std`. Decide on which active power feature to use (hint: perhaps the average or maximum would be a good place to start). Begin by using the function `groupby` to determine how many turbines there are in the dataset. The dataset is huge, so in order to visualize trends in power output, a simpler way would be to look at monthly trends in the data."
   ]
  },
  {
   "cell_type": "code",
   "execution_count": null,
   "metadata": {},
   "outputs": [],
   "source": []
  },
  {
   "cell_type": "markdown",
   "metadata": {},
   "source": [
    "There is a wind turbine with `Wind_turbine_name` R80711. Use this column and determine the trend for the month of January."
   ]
  },
  {
   "cell_type": "code",
   "execution_count": 55,
   "metadata": {},
   "outputs": [
    {
     "data": {
      "text/html": [
       "<div>\n",
       "<style scoped>\n",
       "    .dataframe tbody tr th:only-of-type {\n",
       "        vertical-align: middle;\n",
       "    }\n",
       "\n",
       "    .dataframe tbody tr th {\n",
       "        vertical-align: top;\n",
       "    }\n",
       "\n",
       "    .dataframe thead th {\n",
       "        text-align: right;\n",
       "    }\n",
       "</style>\n",
       "<table border=\"1\" class=\"dataframe\">\n",
       "  <thead>\n",
       "    <tr style=\"text-align: right;\">\n",
       "      <th></th>\n",
       "      <th>Ba_avg</th>\n",
       "      <th>Ba_min</th>\n",
       "      <th>Ba_max</th>\n",
       "      <th>Ba_std</th>\n",
       "      <th>Rt_avg</th>\n",
       "      <th>Rt_min</th>\n",
       "      <th>Rt_max</th>\n",
       "      <th>Rt_std</th>\n",
       "      <th>DCs_avg</th>\n",
       "      <th>DCs_min</th>\n",
       "      <th>...</th>\n",
       "      <th>Pas_max</th>\n",
       "      <th>Pas_std</th>\n",
       "      <th>Wa_c_avg</th>\n",
       "      <th>Wa_c_min</th>\n",
       "      <th>Wa_c_max</th>\n",
       "      <th>Wa_c_std</th>\n",
       "      <th>Na_c_avg</th>\n",
       "      <th>Na_c_min</th>\n",
       "      <th>Na_c_max</th>\n",
       "      <th>Na_c_std</th>\n",
       "    </tr>\n",
       "    <tr>\n",
       "      <th>Wind_turbine_name</th>\n",
       "      <th></th>\n",
       "      <th></th>\n",
       "      <th></th>\n",
       "      <th></th>\n",
       "      <th></th>\n",
       "      <th></th>\n",
       "      <th></th>\n",
       "      <th></th>\n",
       "      <th></th>\n",
       "      <th></th>\n",
       "      <th></th>\n",
       "      <th></th>\n",
       "      <th></th>\n",
       "      <th></th>\n",
       "      <th></th>\n",
       "      <th></th>\n",
       "      <th></th>\n",
       "      <th></th>\n",
       "      <th></th>\n",
       "      <th></th>\n",
       "      <th></th>\n",
       "    </tr>\n",
       "  </thead>\n",
       "  <tbody>\n",
       "    <tr>\n",
       "      <th>R80711</th>\n",
       "      <td>6226</td>\n",
       "      <td>6226</td>\n",
       "      <td>6226</td>\n",
       "      <td>6226</td>\n",
       "      <td>6226</td>\n",
       "      <td>6226</td>\n",
       "      <td>6226</td>\n",
       "      <td>6226</td>\n",
       "      <td>6226</td>\n",
       "      <td>6226</td>\n",
       "      <td>...</td>\n",
       "      <td>6226</td>\n",
       "      <td>6226</td>\n",
       "      <td>6226</td>\n",
       "      <td>6226</td>\n",
       "      <td>6226</td>\n",
       "      <td>6226</td>\n",
       "      <td>6226</td>\n",
       "      <td>6226</td>\n",
       "      <td>6226</td>\n",
       "      <td>6226</td>\n",
       "    </tr>\n",
       "    <tr>\n",
       "      <th>R80721</th>\n",
       "      <td>6257</td>\n",
       "      <td>6257</td>\n",
       "      <td>6257</td>\n",
       "      <td>6257</td>\n",
       "      <td>6257</td>\n",
       "      <td>6257</td>\n",
       "      <td>6257</td>\n",
       "      <td>6257</td>\n",
       "      <td>6257</td>\n",
       "      <td>6257</td>\n",
       "      <td>...</td>\n",
       "      <td>6257</td>\n",
       "      <td>6257</td>\n",
       "      <td>6257</td>\n",
       "      <td>6257</td>\n",
       "      <td>6257</td>\n",
       "      <td>6257</td>\n",
       "      <td>6257</td>\n",
       "      <td>6257</td>\n",
       "      <td>6257</td>\n",
       "      <td>6257</td>\n",
       "    </tr>\n",
       "    <tr>\n",
       "      <th>R80736</th>\n",
       "      <td>6246</td>\n",
       "      <td>6246</td>\n",
       "      <td>6246</td>\n",
       "      <td>6246</td>\n",
       "      <td>6246</td>\n",
       "      <td>6246</td>\n",
       "      <td>6246</td>\n",
       "      <td>6246</td>\n",
       "      <td>6246</td>\n",
       "      <td>6246</td>\n",
       "      <td>...</td>\n",
       "      <td>6246</td>\n",
       "      <td>6246</td>\n",
       "      <td>6246</td>\n",
       "      <td>6246</td>\n",
       "      <td>6246</td>\n",
       "      <td>6246</td>\n",
       "      <td>6246</td>\n",
       "      <td>6246</td>\n",
       "      <td>6246</td>\n",
       "      <td>6246</td>\n",
       "    </tr>\n",
       "    <tr>\n",
       "      <th>R80790</th>\n",
       "      <td>6271</td>\n",
       "      <td>6271</td>\n",
       "      <td>6271</td>\n",
       "      <td>6271</td>\n",
       "      <td>6271</td>\n",
       "      <td>6271</td>\n",
       "      <td>6271</td>\n",
       "      <td>6271</td>\n",
       "      <td>6271</td>\n",
       "      <td>6271</td>\n",
       "      <td>...</td>\n",
       "      <td>6271</td>\n",
       "      <td>6271</td>\n",
       "      <td>6271</td>\n",
       "      <td>6271</td>\n",
       "      <td>6271</td>\n",
       "      <td>6271</td>\n",
       "      <td>6271</td>\n",
       "      <td>6271</td>\n",
       "      <td>6271</td>\n",
       "      <td>6271</td>\n",
       "    </tr>\n",
       "  </tbody>\n",
       "</table>\n",
       "<p>4 rows × 136 columns</p>\n",
       "</div>"
      ],
      "text/plain": [
       "                   Ba_avg  Ba_min  Ba_max  Ba_std  Rt_avg  Rt_min  Rt_max  \\\n",
       "Wind_turbine_name                                                           \n",
       "R80711               6226    6226    6226    6226    6226    6226    6226   \n",
       "R80721               6257    6257    6257    6257    6257    6257    6257   \n",
       "R80736               6246    6246    6246    6246    6246    6246    6246   \n",
       "R80790               6271    6271    6271    6271    6271    6271    6271   \n",
       "\n",
       "                   Rt_std  DCs_avg  DCs_min    ...     Pas_max  Pas_std  \\\n",
       "Wind_turbine_name                              ...                        \n",
       "R80711               6226     6226     6226    ...        6226     6226   \n",
       "R80721               6257     6257     6257    ...        6257     6257   \n",
       "R80736               6246     6246     6246    ...        6246     6246   \n",
       "R80790               6271     6271     6271    ...        6271     6271   \n",
       "\n",
       "                   Wa_c_avg  Wa_c_min  Wa_c_max  Wa_c_std  Na_c_avg  Na_c_min  \\\n",
       "Wind_turbine_name                                                               \n",
       "R80711                 6226      6226      6226      6226      6226      6226   \n",
       "R80721                 6257      6257      6257      6257      6257      6257   \n",
       "R80736                 6246      6246      6246      6246      6246      6246   \n",
       "R80790                 6271      6271      6271      6271      6271      6271   \n",
       "\n",
       "                   Na_c_max  Na_c_std  \n",
       "Wind_turbine_name                      \n",
       "R80711                 6226      6226  \n",
       "R80721                 6257      6257  \n",
       "R80736                 6246      6246  \n",
       "R80790                 6271      6271  \n",
       "\n",
       "[4 rows x 136 columns]"
      ]
     },
     "execution_count": 55,
     "metadata": {},
     "output_type": "execute_result"
    }
   ],
   "source": [
    "turbines = data2.groupby('Wind_turbine_name') \n",
    "turbines.count()"
   ]
  },
  {
   "cell_type": "code",
   "execution_count": 41,
   "metadata": {},
   "outputs": [
    {
     "data": {
      "text/plain": [
       "4"
      ]
     },
     "execution_count": 41,
     "metadata": {},
     "output_type": "execute_result"
    }
   ],
   "source": [
    "len(turbines) #There are 4 types of turbine in the data"
   ]
  },
  {
   "cell_type": "code",
   "execution_count": 14,
   "metadata": {},
   "outputs": [],
   "source": [
    "#To plot turbine R80711, transpose the data fram in order to plot the turbine as a column\n",
    "\n",
    "#data2 = data2.T \n",
    "#data2.head()\n"
   ]
  },
  {
   "cell_type": "code",
   "execution_count": 46,
   "metadata": {},
   "outputs": [],
   "source": [
    "#selecting a date range\n",
    "month = data2.loc[('2013-01-01'<data2['Date_time']) & (data2['Date_time']<'2013-01-30')]\n",
    "month1 = data2.loc[('2014-01-01'<data2['Date_time']) & (data2['Date_time']<'2014-01-30')]\n",
    "month2= data2.loc[('2015-01-01'<data2['Date_time']) & (data2['Date_time']<'2015-01-30')]\n",
    "month3 = data2.loc[('2016-01-01'<data2['Date_time']) & (data2['Date_time']<'2016-01-30')]\n",
    "#month4 = data2.loc[('2012-01-01'<data2['Date_time']) & (data2['Date_time']<'2012-01-30')]"
   ]
  },
  {
   "cell_type": "code",
   "execution_count": 47,
   "metadata": {},
   "outputs": [
    {
     "data": {
      "text/plain": [
       "<matplotlib.axes._subplots.AxesSubplot at 0x25ba9974160>"
      ]
     },
     "execution_count": 47,
     "metadata": {},
     "output_type": "execute_result"
    },
    {
     "data": {
      "text/plain": [
       "<Figure size 1080x432 with 0 Axes>"
      ]
     },
     "metadata": {},
     "output_type": "display_data"
    },
    {
     "data": {
      "image/png": "[encoded data removed]",
      "text/plain": [
       "<Figure size 432x288 with 1 Axes>"
      ]
     },
     "metadata": {
      "needs_background": "light"
     },
     "output_type": "display_data"
    },
    {
     "data": {
      "image/png": "[encoded data removed]",
      "text/plain": [
       "<Figure size 432x288 with 1 Axes>"
      ]
     },
     "metadata": {
      "needs_background": "light"
     },
     "output_type": "display_data"
    },
    {
     "data": {
      "image/png": "[encoded data removed]",
      "text/plain": [
       "<Figure size 432x288 with 1 Axes>"
      ]
     },
     "metadata": {
      "needs_background": "light"
     },
     "output_type": "display_data"
    },
    {
     "data": {
      "image/png": "[encoded data removed]",
      "text/plain": [
       "<Figure size 432x288 with 1 Axes>"
      ]
     },
     "metadata": {
      "needs_background": "light"
     },
     "output_type": "display_data"
    }
   ],
   "source": [
    "fig = plt.figure(figsize=(15, 6))\n",
    "\n",
    "\n",
    "month.plot(x='Date_time', y='P_max',c='green')\n",
    "month1.plot(x='Date_time', y='P_max')\n",
    "month2.plot(x='Date_time', y='P_max', c='red')\n",
    "month3.plot(x='Date_time', y='P_max', c='orange')\n",
    "#month4.plot(x='Date_time', y='P_max', c='orange')"
   ]
  },
  {
   "cell_type": "markdown",
   "metadata": {},
   "source": [
    "### Find missing values"
   ]
  },
  {
   "cell_type": "markdown",
   "metadata": {},
   "source": [
    "A dataset with missing values will not be usable for fitting and testing a model. Fill in missing values in a way suitable for the model."
   ]
  },
  {
   "cell_type": "code",
   "execution_count": 110,
   "metadata": {},
   "outputs": [
    {
     "data": {
      "text/plain": [
       "0"
      ]
     },
     "execution_count": 110,
     "metadata": {},
     "output_type": "execute_result"
    }
   ],
   "source": [
    "#Replace missing values with 0 and check if indeed we have no missing values\n",
    "d2=data2\n",
    "d2.fillna(0, inplace=True)\n",
    "d2.isnull().sum().sum()"
   ]
  },
  {
   "cell_type": "markdown",
   "metadata": {},
   "source": [
    "### Split dataset into predictor and target matrices"
   ]
  },
  {
   "cell_type": "code",
   "execution_count": 85,
   "metadata": {},
   "outputs": [
    {
     "name": "stdout",
     "output_type": "stream",
     "text": [
      "804808    1\n",
      "732424    1\n",
      "312987    0\n",
      "68152     0\n",
      "231878    0\n",
      "358331    1\n",
      "103717    1\n",
      "243156    0\n",
      "588295    0\n",
      "321189    1\n",
      "604953    0\n",
      "294112    0\n",
      "239505    1\n",
      "443389    1\n",
      "461924    1\n",
      "686036    0\n",
      "193847    0\n",
      "260943    0\n",
      "253948    0\n",
      "839760    0\n",
      "339926    1\n",
      "474994    0\n",
      "514081    0\n",
      "98198     0\n",
      "613991    1\n",
      "117084    0\n",
      "367290    0\n",
      "605010    0\n",
      "254785    0\n",
      "596705    0\n",
      "         ..\n",
      "513380    1\n",
      "614196    0\n",
      "611066    0\n",
      "432377    0\n",
      "804755    1\n",
      "554336    0\n",
      "379515    0\n",
      "419108    1\n",
      "453626    0\n",
      "302710    1\n",
      "45434     0\n",
      "720863    0\n",
      "759527    1\n",
      "86740     0\n",
      "562175    1\n",
      "738888    1\n",
      "829512    0\n",
      "613919    0\n",
      "66064     1\n",
      "309843    0\n",
      "371323    1\n",
      "199539    0\n",
      "768294    1\n",
      "157270    0\n",
      "645905    0\n",
      "343924    0\n",
      "256691    0\n",
      "545539    1\n",
      "452358    1\n",
      "563047    0\n",
      "Name: aboveAVG, Length: 25000, dtype: int32\n"
     ]
    }
   ],
   "source": [
    "# Generate new class attribute. Is P max and P avg above average? 1= yes / 0 = no\n",
    "data2['aboveAVG'] = np.where((data2['P_max'] + data2['P_min'])>=(data2['P_max'].mean() + data2['P_min'].mean()), 1, 0)\n",
    "\n",
    "print(data2['aboveAVG'])"
   ]
  },
  {
   "cell_type": "code",
   "execution_count": 86,
   "metadata": {},
   "outputs": [],
   "source": [
    "# Values of target\n",
    "y = data2['aboveAVG'].values\n",
    "\n",
    "# Values of attributes\n",
    "data = data2.drop(['P_max', 'P_min', 'aboveAVG'], axis=1)\n",
    "X = data2.values\n",
    "\n",
    "# Splitting\n",
    "X_train, X_test, y_train, y_test = train_test_split(X, y, test_size=0.3, random_state=0)"
   ]
  },
  {
   "cell_type": "markdown",
   "metadata": {},
   "source": [
    "### Dimension Reduction with PCA"
   ]
  },
  {
   "cell_type": "markdown",
   "metadata": {},
   "source": [
    "The dataset we have it quite huge. We need to select features to use for our analysis of the active power. To discover the principal features, we can principal component analysis. First split the data into predictor and target variables. PCA allows you to reduce the number of you predictors, and to decorrelate them especially for features that have a direct relationship like apparent power, reactive power and active power."
   ]
  },
  {
   "cell_type": "code",
   "execution_count": 113,
   "metadata": {},
   "outputs": [],
   "source": [
    "#remove features that are not relevant for machine learning:\n",
    "\n",
    "del data2['Date_time']\n",
    "\n",
    "del data2['Wind_turbine_name']"
   ]
  },
  {
   "cell_type": "code",
   "execution_count": 87,
   "metadata": {},
   "outputs": [],
   "source": [
    "#getting number of features\n",
    "\n",
    "number_features = len(data2.columns)"
   ]
  },
  {
   "cell_type": "code",
   "execution_count": 88,
   "metadata": {},
   "outputs": [
    {
     "data": {
      "text/plain": [
       "PCA(copy=True, iterated_power='auto', n_components=137, random_state=None,\n",
       "  svd_solver='auto', tol=0.0, whiten=False)"
      ]
     },
     "execution_count": 88,
     "metadata": {},
     "output_type": "execute_result"
    }
   ],
   "source": [
    "pca=PCA(n_components=number_features)                                    \n",
    "pca.fit(X) "
   ]
  },
  {
   "cell_type": "code",
   "execution_count": null,
   "metadata": {},
   "outputs": [],
   "source": []
  },
  {
   "cell_type": "markdown",
   "metadata": {},
   "source": [
    "### Plot the variance"
   ]
  },
  {
   "cell_type": "code",
   "execution_count": 89,
   "metadata": {},
   "outputs": [
    {
     "data": {
      "text/plain": [
       "array([[-2.39848687e-03, -2.33657883e-03, -2.33021759e-03, ...,\n",
       "        -0.00000000e+00, -0.00000000e+00,  6.37769774e-05],\n",
       "       [ 6.56405598e-03,  5.89112195e-03,  7.54328199e-03, ...,\n",
       "         0.00000000e+00,  0.00000000e+00, -4.95325385e-06],\n",
       "       [ 2.17768646e-02,  2.15304629e-02,  2.20780514e-02, ...,\n",
       "         0.00000000e+00,  0.00000000e+00, -3.37676548e-05],\n",
       "       ...,\n",
       "       [-0.00000000e+00, -0.00000000e+00, -0.00000000e+00, ...,\n",
       "        -1.00000000e+00, -0.00000000e+00, -0.00000000e+00],\n",
       "       [ 0.00000000e+00,  0.00000000e+00,  0.00000000e+00, ...,\n",
       "         0.00000000e+00,  1.00000000e+00,  0.00000000e+00],\n",
       "       [-0.00000000e+00, -1.88407734e-36,  2.27211376e-36, ...,\n",
       "        -0.00000000e+00, -0.00000000e+00,  1.08248339e-35]])"
      ]
     },
     "execution_count": 89,
     "metadata": {},
     "output_type": "execute_result"
    }
   ],
   "source": [
    "PCA(copy=True, n_components=None, whiten=False)\n",
    "pca.components_"
   ]
  },
  {
   "cell_type": "code",
   "execution_count": 90,
   "metadata": {},
   "outputs": [
    {
     "data": {
      "text/plain": [
       "array([9.29065125e-01, 3.38809057e-02, 2.05045967e-02, 8.04201578e-03,\n",
       "       3.94360903e-03, 1.37596555e-03, 1.19512854e-03, 3.68483102e-04,\n",
       "       2.55676032e-04, 2.30802810e-04, 1.94654698e-04, 1.76140913e-04,\n",
       "       1.59329239e-04, 1.15049865e-04, 9.86068026e-05, 7.67256570e-05,\n",
       "       4.66610471e-05, 4.30104261e-05, 4.16519053e-05, 3.83328699e-05,\n",
       "       2.67562658e-05, 2.50329532e-05, 1.60526904e-05, 1.09440592e-05,\n",
       "       1.05944340e-05, 1.02274710e-05, 9.75503697e-06, 8.42955784e-06,\n",
       "       4.87009372e-06, 3.95183321e-06, 3.77413710e-06, 3.05467513e-06,\n",
       "       2.92814569e-06, 1.91048519e-06, 1.81058556e-06, 9.95189459e-07,\n",
       "       7.36244159e-07, 6.86064490e-07, 6.20784226e-07, 5.66311344e-07,\n",
       "       5.36373026e-07, 4.58955407e-07, 3.87016086e-07, 2.87501726e-07,\n",
       "       2.73841877e-07, 2.53010562e-07, 2.39593782e-07, 2.17487183e-07,\n",
       "       1.87682689e-07, 1.76880428e-07, 1.46131888e-07, 1.05853722e-07,\n",
       "       7.00446524e-08, 6.62563783e-08, 5.60074625e-08, 4.87579624e-08,\n",
       "       4.50673868e-08, 4.38192579e-08, 4.26786649e-08, 3.39104194e-08,\n",
       "       2.98555782e-08, 2.41613551e-08, 1.33318786e-08, 1.13512477e-08,\n",
       "       9.46933108e-09, 7.56825647e-09, 6.11803706e-09, 6.09071428e-09,\n",
       "       5.12524774e-09, 4.80898181e-09, 4.65950079e-09, 4.19299661e-09,\n",
       "       3.67626729e-09, 3.55956231e-09, 2.30919110e-09, 2.17543506e-09,\n",
       "       1.98677979e-09, 1.88274974e-09, 1.76780420e-09, 1.19746676e-09,\n",
       "       1.12394842e-09, 9.91515334e-10, 8.56605707e-10, 7.92752916e-10,\n",
       "       7.72447934e-10, 7.34296305e-10, 5.26826160e-10, 4.19756493e-10,\n",
       "       3.01767245e-10, 2.73941225e-10, 2.03158022e-10, 1.83925253e-10,\n",
       "       1.77504549e-10, 1.60522290e-10, 1.52284357e-10, 1.39028049e-10,\n",
       "       1.37415347e-10, 1.30673281e-10, 1.27668021e-10, 8.15422942e-11,\n",
       "       7.31359390e-11, 6.59551446e-11, 5.52253439e-11, 4.46138984e-11,\n",
       "       4.33707442e-11, 3.44889371e-11, 3.07221545e-11, 2.74250990e-11,\n",
       "       2.66544117e-11, 1.88026323e-11, 1.25482890e-11, 1.07295429e-11,\n",
       "       8.25883120e-12, 6.89269400e-12, 6.12612191e-12, 3.53104131e-12,\n",
       "       1.54354630e-12, 9.10260675e-13, 5.49597573e-13, 6.29428299e-33,\n",
       "       6.29428299e-33, 6.29428299e-33, 6.29428299e-33, 6.29428299e-33,\n",
       "       6.29428299e-33, 6.29428299e-33, 6.29428299e-33, 6.29428299e-33,\n",
       "       6.29428299e-33, 6.29428299e-33, 6.29428299e-33, 6.29428299e-33,\n",
       "       6.29428299e-33, 6.29428299e-33, 6.29428299e-33, 6.29428299e-33,\n",
       "       6.29428299e-33])"
      ]
     },
     "execution_count": 90,
     "metadata": {},
     "output_type": "execute_result"
    }
   ],
   "source": [
    "pca.explained_variance_ratio_"
   ]
  },
  {
   "cell_type": "code",
   "execution_count": 91,
   "metadata": {},
   "outputs": [
    {
     "data": {
      "text/plain": [
       "array([3.62026000e+07, 1.32022701e+06, 7.98996424e+05, 3.13370799e+05,\n",
       "       1.53669421e+05, 5.36168338e+04, 4.65702127e+04, 1.43585697e+04,\n",
       "       9.96285068e+03, 8.99362334e+03, 7.58505081e+03, 6.86362973e+03,\n",
       "       6.20853430e+03, 4.48311334e+03, 3.84238148e+03, 2.98974549e+03,\n",
       "       1.81822692e+03, 1.67597428e+03, 1.62303721e+03, 1.49370536e+03,\n",
       "       1.04260332e+03, 9.75451521e+02, 6.25520338e+02, 4.26453848e+02,\n",
       "       4.12830110e+02, 3.98530773e+02, 3.80121578e+02, 3.28472033e+02,\n",
       "       1.89771470e+02, 1.53989890e+02, 1.47065660e+02, 1.19030603e+02,\n",
       "       1.14100168e+02, 7.44452989e+01, 7.05525402e+01, 3.87792469e+01,\n",
       "       2.86890037e+01, 2.67336677e+01, 2.41899113e+01, 2.20672830e+01,\n",
       "       2.09006856e+01, 1.78839767e+01, 1.50807389e+01, 1.12029929e+01,\n",
       "       1.06707137e+01, 9.85898611e+00, 9.33617851e+00, 8.47475733e+00,\n",
       "       7.31337463e+00, 6.89244617e+00, 5.69427713e+00, 4.12477000e+00,\n",
       "       2.72940880e+00, 2.58179227e+00, 2.18242587e+00, 1.89993679e+00,\n",
       "       1.75612724e+00, 1.70749178e+00, 1.66304664e+00, 1.32137707e+00,\n",
       "       1.16337329e+00, 9.41488222e-01, 5.19499285e-01, 4.42320639e-01,\n",
       "       3.68988563e-01, 2.94909963e-01, 2.38399701e-01, 2.37335023e-01,\n",
       "       1.99713980e-01, 1.87390141e-01, 1.81565359e-01, 1.63387232e-01,\n",
       "       1.43251997e-01, 1.38704389e-01, 8.99815517e-02, 8.47695205e-02,\n",
       "       7.74182475e-02, 7.33645403e-02, 6.88854922e-02, 4.66613253e-02,\n",
       "       4.37965584e-02, 3.86360784e-02, 3.33790957e-02, 3.08909633e-02,\n",
       "       3.00997452e-02, 2.86131022e-02, 2.05286758e-02, 1.63565244e-02,\n",
       "       1.17588731e-02, 1.06745850e-02, 7.91639726e-03, 7.16695976e-03,\n",
       "       6.91676611e-03, 6.25502356e-03, 5.93401853e-03, 5.41746398e-03,\n",
       "       5.35462229e-03, 5.09190627e-03, 4.97480118e-03, 3.17743394e-03,\n",
       "       2.84986603e-03, 2.57005419e-03, 2.15194929e-03, 1.73845630e-03,\n",
       "       1.69001468e-03, 1.34391999e-03, 1.19714091e-03, 1.06866554e-03,\n",
       "       1.03863440e-03, 7.32676491e-04, 4.88965385e-04, 4.18094856e-04,\n",
       "       3.21819380e-04, 2.68585524e-04, 2.38714741e-04, 1.37593020e-04,\n",
       "       6.01469022e-05, 3.54698527e-05, 2.14160025e-05, 2.45267423e-25,\n",
       "       2.45267423e-25, 2.45267423e-25, 2.45267423e-25, 2.45267423e-25,\n",
       "       2.45267423e-25, 2.45267423e-25, 2.45267423e-25, 2.45267423e-25,\n",
       "       2.45267423e-25, 2.45267423e-25, 2.45267423e-25, 2.45267423e-25,\n",
       "       2.45267423e-25, 2.45267423e-25, 2.45267423e-25, 2.45267423e-25,\n",
       "       2.45267423e-25])"
      ]
     },
     "execution_count": 91,
     "metadata": {},
     "output_type": "execute_result"
    }
   ],
   "source": [
    "pca.explained_variance_"
   ]
  },
  {
   "cell_type": "code",
   "execution_count": 92,
   "metadata": {},
   "outputs": [
    {
     "data": {
      "text/plain": [
       "array([92.9, 96.3, 98.4, 99.2, 99.6, 99.7, 99.8, 99.8, 99.8, 99.8, 99.8,\n",
       "       99.8, 99.8, 99.8, 99.8, 99.8, 99.8, 99.8, 99.8, 99.8, 99.8, 99.8,\n",
       "       99.8, 99.8, 99.8, 99.8, 99.8, 99.8, 99.8, 99.8, 99.8, 99.8, 99.8,\n",
       "       99.8, 99.8, 99.8, 99.8, 99.8, 99.8, 99.8, 99.8, 99.8, 99.8, 99.8,\n",
       "       99.8, 99.8, 99.8, 99.8, 99.8, 99.8, 99.8, 99.8, 99.8, 99.8, 99.8,\n",
       "       99.8, 99.8, 99.8, 99.8, 99.8, 99.8, 99.8, 99.8, 99.8, 99.8, 99.8,\n",
       "       99.8, 99.8, 99.8, 99.8, 99.8, 99.8, 99.8, 99.8, 99.8, 99.8, 99.8,\n",
       "       99.8, 99.8, 99.8, 99.8, 99.8, 99.8, 99.8, 99.8, 99.8, 99.8, 99.8,\n",
       "       99.8, 99.8, 99.8, 99.8, 99.8, 99.8, 99.8, 99.8, 99.8, 99.8, 99.8,\n",
       "       99.8, 99.8, 99.8, 99.8, 99.8, 99.8, 99.8, 99.8, 99.8, 99.8, 99.8,\n",
       "       99.8, 99.8, 99.8, 99.8, 99.8, 99.8, 99.8, 99.8, 99.8, 99.8, 99.8,\n",
       "       99.8, 99.8, 99.8, 99.8, 99.8, 99.8, 99.8, 99.8, 99.8, 99.8, 99.8,\n",
       "       99.8, 99.8, 99.8, 99.8, 99.8])"
      ]
     },
     "execution_count": 92,
     "metadata": {},
     "output_type": "execute_result"
    }
   ],
   "source": [
    "variance = np.cumsum(np.round(pca.explained_variance_ratio_, decimals=3)*100)\n",
    "variance"
   ]
  },
  {
   "cell_type": "code",
   "execution_count": 114,
   "metadata": {},
   "outputs": [
    {
     "data": {
      "text/plain": [
       "[<matplotlib.lines.Line2D at 0x25ba998be48>]"
      ]
     },
     "execution_count": 114,
     "metadata": {},
     "output_type": "execute_result"
    },
    {
     "data": {
      "image/png": "[encoded data removed]",
      "text/plain": [
       "<Figure size 432x288 with 1 Axes>"
      ]
     },
     "metadata": {
      "needs_background": "light"
     },
     "output_type": "display_data"
    }
   ],
   "source": [
    "#plot the variance\n",
    "\n",
    "plt.ylabel('% Cumulative Variance')\n",
    "plt.xlabel('Principal Componenet')\n",
    "plt.title('PCA Analysis')\n",
    "plt.ylim(30,100.5)\n",
    "plt.style.context('seaborn-whitegrid')\n",
    "\n",
    "\n",
    "plt.plot(variance)"
   ]
  },
  {
   "cell_type": "markdown",
   "metadata": {},
   "source": [
    "### Random Forest with PCA"
   ]
  },
  {
   "cell_type": "markdown",
   "metadata": {},
   "source": [
    "Construct a PCA and Random Forest Regressor pipeline. A pipeline is a term for the processing of data until it reaches a form that is usable for the machine learning algorithm. Now there is an actual pipeline module you'll need to use, that streamlines the process of dimension reduction and application of the machine learning algorithm, in this case the random forest regression model. For now, use the first two principal components to construct the pipeline."
   ]
  },
  {
   "cell_type": "code",
   "execution_count": null,
   "metadata": {},
   "outputs": [],
   "source": [
    "forest = RandomForestClassifier(n_estimators=10000, random_state=0, n_jobs=-1)\n",
    "forest.fit(X_train, y_train) # fit model"
   ]
  },
  {
   "cell_type": "code",
   "execution_count": null,
   "metadata": {},
   "outputs": [],
   "source": [
    "pca = PCA(n_components=2)\n",
    "X_r = pca.fit(X).transform(X)\n",
    "\n",
    "logistic = linear_model.LogisticRegression()\n",
    "pipeline = Pipeline(steps=[('pca', pca), ('logistic', logistic)])"
   ]
  },
  {
   "cell_type": "code",
   "execution_count": null,
   "metadata": {},
   "outputs": [],
   "source": []
  },
  {
   "cell_type": "markdown",
   "metadata": {},
   "source": [
    "### Plot the principal components"
   ]
  },
  {
   "cell_type": "markdown",
   "metadata": {},
   "source": [
    "Select the first two components and display them. As rule of thumb, the first to components are selected as they are easier to display in a 2-dimensions."
   ]
  },
  {
   "cell_type": "code",
   "execution_count": 96,
   "metadata": {},
   "outputs": [
    {
     "data": {
      "image/png": "[encoded data removed]",
      "text/plain": [
       "<Figure size 432x288 with 1 Axes>"
      ]
     },
     "metadata": {
      "needs_background": "light"
     },
     "output_type": "display_data"
    }
   ],
   "source": [
    "plt.figure()\n",
    "colors = ['navy', 'turquoise', 'red']\n",
    "lw = 2\n",
    "\n",
    "for color, i, target_name in zip(colors, [0, 1, 2], [0, 1]):\n",
    "    plt.scatter(X_r[y == i, 0], X_r[y == i, 1], color=color, alpha=.8, lw=lw,\n",
    "                label=target_name)\n",
    "plt.legend(loc='best', shadow=False, scatterpoints=1)\n",
    "plt.title('PCA')\n",
    "\n",
    "plt.show()"
   ]
  },
  {
   "cell_type": "markdown",
   "metadata": {},
   "source": [
    "### Split dataset in training and test sets"
   ]
  },
  {
   "cell_type": "markdown",
   "metadata": {},
   "source": [
    "Split the data into training and test sets and use the pipeline to fit and test the model."
   ]
  },
  {
   "cell_type": "code",
   "execution_count": 101,
   "metadata": {},
   "outputs": [],
   "source": [
    "X_train, X_test, y_train, y_test = train_test_split(X, y, test_size=0.3, random_state=0)"
   ]
  },
  {
   "cell_type": "code",
   "execution_count": 102,
   "metadata": {},
   "outputs": [
    {
     "data": {
      "text/plain": [
       "Pipeline(memory=None,\n",
       "     steps=[('pca', PCA(copy=True, iterated_power='auto', n_components=2, random_state=None,\n",
       "  svd_solver='auto', tol=0.0, whiten=False)), ('logistic', LogisticRegression(C=1.0, class_weight=None, dual=False, fit_intercept=True,\n",
       "          intercept_scaling=1, max_iter=100, multi_class='ovr', n_jobs=1,\n",
       "          penalty='l2', random_state=None, solver='liblinear', tol=0.0001,\n",
       "          verbose=0, warm_start=False))])"
      ]
     },
     "execution_count": 102,
     "metadata": {},
     "output_type": "execute_result"
    }
   ],
   "source": [
    "#Fit the model\n",
    "\n",
    "pipeline.fit(X_train, y_train)"
   ]
  },
  {
   "cell_type": "code",
   "execution_count": 103,
   "metadata": {},
   "outputs": [],
   "source": [
    "#predict results\n",
    "\n",
    "y_pred = pipeline.predict(X_test)"
   ]
  },
  {
   "cell_type": "markdown",
   "metadata": {},
   "source": [
    "### Evaluate the results"
   ]
  },
  {
   "cell_type": "markdown",
   "metadata": {},
   "source": [
    "Using the `sklearn.metrics` moduel determine the accuracy score, i.e., the coefficient of determination $R^2$ of the prediction."
   ]
  },
  {
   "cell_type": "code",
   "execution_count": 104,
   "metadata": {},
   "outputs": [
    {
     "data": {
      "text/plain": [
       "0.9705333333333334"
      ]
     },
     "execution_count": 104,
     "metadata": {},
     "output_type": "execute_result"
    }
   ],
   "source": [
    "# Determine Score\n",
    "pipeline.score(X_test, y_test)"
   ]
  },
  {
   "cell_type": "code",
   "execution_count": 115,
   "metadata": {},
   "outputs": [
    {
     "data": {
      "text/plain": [
       "0.9705333333333334"
      ]
     },
     "execution_count": 115,
     "metadata": {},
     "output_type": "execute_result"
    }
   ],
   "source": [
    "# F-measure\n",
    "f1_score(y_test, y_pred, average='micro')"
   ]
  },
  {
   "cell_type": "code",
   "execution_count": 105,
   "metadata": {},
   "outputs": [
    {
     "data": {
      "text/plain": [
       "array([[4711,  213],\n",
       "       [   8, 2568]], dtype=int64)"
      ]
     },
     "execution_count": 105,
     "metadata": {},
     "output_type": "execute_result"
    }
   ],
   "source": [
    "# Confusion matrix\n",
    "cm = confusion_matrix(y_test, y_pred)\n",
    "cm"
   ]
  },
  {
   "cell_type": "code",
   "execution_count": 116,
   "metadata": {},
   "outputs": [
    {
     "data": {
      "text/plain": [
       "Text(0.5,15,'Predicted label')"
      ]
     },
     "execution_count": 116,
     "metadata": {},
     "output_type": "execute_result"
    },
    {
     "data": {
      "image/png": "[encoded data removed]",
      "text/plain": [
       "<Figure size 432x288 with 2 Axes>"
      ]
     },
     "metadata": {
      "needs_background": "light"
     },
     "output_type": "display_data"
    }
   ],
   "source": [
    "# Plot confusion matrix\n",
    "plt.imshow(cm, interpolation='nearest', cmap=plt.cm.Greens)\n",
    "plt.title('Confusion matrix')\n",
    "plt.colorbar()\n",
    "plt.tight_layout()\n",
    "plt.ylabel('True label')\n",
    "plt.xlabel('Predicted label')"
   ]
  },
  {
   "cell_type": "markdown",
   "metadata": {},
   "source": [
    "### References"
   ]
  },
  {
   "cell_type": "markdown",
   "metadata": {},
   "source": [
    "Referred to for determination of input features to predict power output: [Forecasting Wind Power](https://lucdemortier.github.io/articles/17/WindPower).\n",
    "\n",
    "[Selecting good features – Part IV: stability selection, RFE and everything side by side](http://blog.datadive.net/selecting-good-features-part-iv-stability-selection-rfe-and-everything-side-by-side/)"
   ]
  },
  {
   "cell_type": "code",
   "execution_count": null,
   "metadata": {},
   "outputs": [],
   "source": []
  }
 ],
 "metadata": {
  "kernelspec": {
   "display_name": "Python 3",
   "language": "python",
   "name": "python3"
  },
  "language_info": {
   "codemirror_mode": {
    "name": "ipython",
    "version": 3
   },
   "file_extension": ".py",
   "mimetype": "text/x-python",
   "name": "python",
   "nbconvert_exporter": "python",
   "pygments_lexer": "ipython3",
   "version": "3.7.0"
  }
 },
 "nbformat": 4,
 "nbformat_minor": 2
}
